{
 "cells": [
  {
   "cell_type": "markdown",
   "id": "9cdde376-cea5-4f54-9745-04cd7d1e84a5",
   "metadata": {},
   "source": [
    "# Titanic Survival Prediction Task Using Python\n",
    "\n",
    "In this Jupyter Notebook, I will explore the Titanic dataset and aim to predict whether a passenger survived based on various features using logistic regression machine learning algorithmn. The Titanic dataset typically includes features like `PassengerId`, `Pclass`, `Name`, `Sex`, `Age`, `SibSp`, `Parch`, `Ticket`, `Fare`, `Cabin`, and `Embarked`.\n",
    "\n",
    "<b>Columns Description:</b>\n",
    "\n",
    "    1. PassengerId: A unique identifier assigned to each passenger.\n",
    "    \n",
    "    2. Survived: Indicates whether a passenger survived (1) or died (0).\n",
    "    \n",
    "    3. Pclass: Represents the passenger class, which can be a numerical or categorical value indicating the class of travel (e.g., first, second, or third class).\n",
    "    \n",
    "    4. Name: The name of the passenger.\n",
    "    \n",
    "    5. Sex: Represents the gender of the passenger, typically categorized as male or female.\n",
    "    \n",
    "    6. Age: The age of the passenger, often represented as a numerical value.\n",
    "    \n",
    "    7. SibSp: Indicates the number of siblings or spouses traveling with the passenger.\n",
    "    \n",
    "    8. Parch: Represents the number of parents or children traveling with the passenger.\n",
    "    \n",
    "    9. Ticket: The ticket number associated with the passenger's ticket.\n",
    "    \n",
    "    10. Fare: The amount of money spent on the ticket.\n",
    "    \n",
    "    11. Cabin: Represents the cabin category or number assigned to the passenger, if available.\n",
    "    \n",
    "    12. Embarked: Indicates the port where the passenger embarked from, typically represented by a single character code (e.g., C for Cherbourg, Q for Queenstown, S for Southampton)."
   ]
  },
  {
   "cell_type": "code",
   "execution_count": null,
   "id": "6a8336a2-5b15-4b7d-a6d2-9671d14141b2",
   "metadata": {},
   "outputs": [],
   "source": []
  }
 ],
 "metadata": {
  "kernelspec": {
   "display_name": "Python 3 (ipykernel)",
   "language": "python",
   "name": "python3"
  },
  "language_info": {
   "codemirror_mode": {
    "name": "ipython",
    "version": 3
   },
   "file_extension": ".py",
   "mimetype": "text/x-python",
   "name": "python",
   "nbconvert_exporter": "python",
   "pygments_lexer": "ipython3",
   "version": "3.12.4"
  }
 },
 "nbformat": 4,
 "nbformat_minor": 5
}
