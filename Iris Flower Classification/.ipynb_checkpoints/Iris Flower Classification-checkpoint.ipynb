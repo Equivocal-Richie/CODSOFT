{
 "cells": [
  {
   "cell_type": "markdown",
   "id": "bb652641-71df-453e-bee9-6244fbddf42e",
   "metadata": {},
   "source": [
    "<style>\n",
    "    h1\n",
    "</style>"
   ]
  },
  {
   "cell_type": "markdown",
   "id": "df412b7e-5d5f-41de-ab12-b8aedc332fc4",
   "metadata": {},
   "source": [
    "<h1><b>Iris Flower Classification</b></h1>\n",
    "<p style=\"font-size:16px;\">\n",
    "    In this Jupyter Notebook, I'm going to explore the Iris Flower Dataset consisting of 3 species: `setosa`,`versicolor`, and `virginica` distinguished based on their measurements. For this project I'm going to use Logistic Regresseion Machine Learning Model that can learn from\n",
    "these sepal and petal measurements and accurately classify the Iris flowers into their respective species.\n",
    "</p>\n",
    "<h3><b>Columns Description:</b></h3>\n",
    "<ol>\n",
    "    <li></li><br>\n",
    "    <li></li><br>\n",
    "    <li></li><br>\n",
    "    <li></li>\n",
    "</ol>"
   ]
  },
  {
   "cell_type": "code",
   "execution_count": null,
   "id": "1ff7a502-42b9-4e41-b1d2-1d30db9b39f1",
   "metadata": {},
   "outputs": [],
   "source": []
  }
 ],
 "metadata": {
  "kernelspec": {
   "display_name": "Python 3 (ipykernel)",
   "language": "python",
   "name": "python3"
  },
  "language_info": {
   "codemirror_mode": {
    "name": "ipython",
    "version": 3
   },
   "file_extension": ".py",
   "mimetype": "text/x-python",
   "name": "python",
   "nbconvert_exporter": "python",
   "pygments_lexer": "ipython3",
   "version": "3.12.4"
  }
 },
 "nbformat": 4,
 "nbformat_minor": 5
}
